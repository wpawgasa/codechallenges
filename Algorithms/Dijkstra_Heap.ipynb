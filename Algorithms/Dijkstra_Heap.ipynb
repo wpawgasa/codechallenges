{
 "cells": [
  {
   "attachments": {},
   "cell_type": "markdown",
   "metadata": {},
   "source": [
    "## Dijkstra Algorithm Implementation using Heap\n",
    "\n",
    "According to the traditional implementation of Dijkstra Algorithm, its worst case running time is $O(mn)$ with adjacency list, where $m=|E|$ and $n=|V|$. As the traditional method, we have two sets of vertices; $v\\in X$ for $v$ are vertices whose the shortest distances from $s$ are already determined, and $w\\in V-X$ for $w$ are vertices whose shortest distances from $s$ are not yet determined. We will use `Min-Heap` to store vertices in $V-X$ according to their distances to the nodes in $X$. Here are the steps to implement Dijkstra Algorithm using Heap.\n",
    "\n",
    "0. Intialize each node in $V-X$ to have $l_{min}=\\infty$ \n",
    "1. For each node in $V-X$, determine the incoming edge whose length is minimum. Store this value as $l_{min}$.\n",
    "2. Insert each node in $V-X$ to `Min-Heap` according to their $l_{min}$ values.\n",
    "3. Remove the minimum node (root) $w$ from the heap. \n",
    "4. Move $w$ to $X$\n",
    "5. Repeat 1-4 until $V-X$ is empty.\n",
    "\n",
    "The worst case running time for Dijkstra Algorithm using Heap is $O(m\\log n)$.\n"
   ]
  },
  {
   "attachments": {},
   "cell_type": "markdown",
   "metadata": {},
   "source": [
    "#### Min-Heap Implementation "
   ]
  },
  {
   "cell_type": "code",
   "execution_count": 266,
   "metadata": {},
   "outputs": [],
   "source": [
    "class MinHeap:\n",
    "\n",
    "    def __init__(self, maxSize):\n",
    "        self.maxSize = maxSize\n",
    "        self.arr = [None]*maxSize\n",
    "        self.heapSize = 0\n",
    "\n",
    "    def heapify(self, i):\n",
    "        l = 2*i + 1\n",
    "        r = 2*i + 2\n",
    "        minimum = i\n",
    "        if l < self.heapSize and self.arr[l].d < self.arr[i].d:\n",
    "            minimum = l\n",
    "        if r < self.heapSize and self.arr[r].d < self.arr[minimum].d:\n",
    "            minimum = r\n",
    "        if minimum != i:\n",
    "            tmp = self.arr[i]\n",
    "            self.arr[i] = self.arr[minimum]\n",
    "            self.arr[minimum] = tmp\n",
    "            self.heapify(minimum)\n",
    "\n",
    "    def insert(self, x):\n",
    "        if self.heapSize == self.maxSize:\n",
    "            print(\"Overflow: Cannot insert any more node.\")\n",
    "            return\n",
    "        \n",
    "        self.heapSize += 1\n",
    "        i = self.heapSize - 1\n",
    "        self.arr[i] = x\n",
    "        parent = (i - 1)//2\n",
    "        while i != 0 and self.arr[parent].d > self.arr[i].d:\n",
    "            tmp = self.arr[i]\n",
    "            self.arr[i] = self.arr[parent]\n",
    "            self.arr[parent] = tmp\n",
    "            i = parent\n",
    "            parent = (i - 1)//2\n",
    "\n",
    "    def removeMin(self):\n",
    "        if self.heapSize <= 0:\n",
    "            return None\n",
    "        if self.heapSize == 1:\n",
    "            self.heapSize = 0\n",
    "            minimum = self.arr[0]\n",
    "            self.arr[0] = None\n",
    "            return minimum\n",
    "        \n",
    "        minimum = self.arr[0]\n",
    "        self.arr[0] = self.arr[self.heapSize - 1]\n",
    "        self.arr[self.heapSize - 1] = None\n",
    "        self.heapSize -= 1\n",
    "        self.heapify(0)\n",
    "        return minimum\n",
    "    \n",
    "    # Increases value of key at\n",
    "    # index 'i' to new_val.\n",
    "    def increaseKey(self, i, newVal):\n",
    "        self.arr[i].d = newVal\n",
    "        parent = (i - 1)//2\n",
    "        while i != 0 and self.arr[parent].d > self.arr[i].d:\n",
    "            tmp = self.arr[i]\n",
    "            self.arr[i] = self.arr[parent]\n",
    "            self.arr[parent] = tmp\n",
    "            i = parent\n",
    "            parent = (i - 1)//2\n",
    "    \n",
    "    def deleteKey(self, i):\n",
    "        # It increases the value of the key\n",
    "        # to infinity and then removes\n",
    "        # the maximum value.\n",
    "        self.increaseKey(i, 0)\n",
    "        self.removeMin()\n",
    "    \n",
    "    def updateHeap(self, w):\n",
    "        # update l_min for each node connected to w\n",
    "        # print(\"Before update d\")\n",
    "        # self.printHeap()\n",
    "        for i in range(self.heapSize):\n",
    "            if w.id in self.arr[i].inedges:\n",
    "                # print(\"Node {} has incoimng edge from node {}\".format(self.arr[i].id, w.id))\n",
    "                v = self.arr[i]\n",
    "                tmp_d = v.d\n",
    "                self.deleteKey(i)\n",
    "                # print(\"Delete {}\".format(v.id))\n",
    "                # self.printHeap()\n",
    "                v.d = tmp_d\n",
    "                if v.d > (w.d + v.inedges[w.id]):\n",
    "                     v.d = w.d + v.inedges[w.id]\n",
    "                     v.v_min = w.id  \n",
    "                   \n",
    "                self.insert(v)\n",
    "                # print(\"Re-insert {}\".format(v.id))\n",
    "                # self.printHeap()\n",
    "        # print(\"After update d\")\n",
    "        # self.printHeap()\n",
    "        \n",
    "        return\n",
    "\n",
    "\n",
    "    def getMin(self):\n",
    "        return self.arr[0]\n",
    "    \n",
    "    def printHeap(self):\n",
    "        heap = ''\n",
    "        for i in range(self.heapSize):\n",
    "            heap += \"{}:{}, \".format(self.arr[i].id, self.arr[i].d)\n",
    "        print(heap)"
   ]
  },
  {
   "attachments": {},
   "cell_type": "markdown",
   "metadata": {},
   "source": [
    "#### Vertice Class"
   ]
  },
  {
   "cell_type": "code",
   "execution_count": 267,
   "metadata": {},
   "outputs": [],
   "source": [
    "class Vertice:\n",
    "\n",
    "    def __init__(self, id):\n",
    "        self.id = id        # label of the vertice\n",
    "        self.d = int(1e6)       # shortest distance from src\n",
    "        self.v_min = None\n",
    "        self.inedges = {}   # store of incoming edge i.e., vertice: length\n",
    "        self.outedges = {}  # store of outgoing edge i.e., vertice: length\n",
    "        self.path = [] \n",
    "\n",
    "    def __str__(self):\n",
    "        return str(self.id)"
   ]
  },
  {
   "attachments": {},
   "cell_type": "markdown",
   "metadata": {},
   "source": [
    "#### Dijkstra Algorithm"
   ]
  },
  {
   "cell_type": "code",
   "execution_count": 268,
   "metadata": {},
   "outputs": [],
   "source": [
    "def dijkstra(G):\n",
    "    s = G[1]\n",
    "    s.d = 0\n",
    "    s.path = [s.id]\n",
    "    X = [s]\n",
    "    VX = [v for v in G.values()]\n",
    "    VX.remove(s)\n",
    "    \n",
    "    while VX:\n",
    "        min_w = None\n",
    "        min_d = int(1e6)\n",
    "        for w in VX:\n",
    "            for v in X:\n",
    "                if v.id in w.inedges:\n",
    "                    # print(\"Edge {}-{}\".format(v.id, w.id, )) \n",
    "                    if v.d + w.inedges[v.id] < min_d:\n",
    "                        min_d = v.d + w.inedges[v.id]\n",
    "                        min_w = w\n",
    "                        \n",
    "        if min_w:\n",
    "            min_w.d = min_d\n",
    "            # print(\"Remove {} length {}\".format(min_w, min_w.d))\n",
    "            VX.remove(min_w)\n",
    "            X.append(min_w)\n",
    "            "
   ]
  },
  {
   "cell_type": "code",
   "execution_count": 269,
   "metadata": {},
   "outputs": [],
   "source": [
    "def dijkstra_heap(G):\n",
    "    # Assume vertice 1 is src\n",
    "    s = G[1]\n",
    "    s.d = 0\n",
    "    s.path.append(s.id)\n",
    "    # Initialize X with s\n",
    "    X = [s]\n",
    "    VX = [v for v in G.values()]\n",
    "    VX.remove(s)\n",
    "    heap = MinHeap(len(G))\n",
    "    # determine l_min for each vertice in VX having connection from s\n",
    "    # then insert to heap\n",
    "    for v in VX:\n",
    "        if s.id in v.inedges:\n",
    "            v.d = s.d + v.inedges[s.id]\n",
    "            v.v_min = s.id\n",
    "        heap.insert(v)\n",
    "    \n",
    "    # maintain heap structure\n",
    "    # heap.heapify(0)\n",
    "\n",
    "    while VX:\n",
    "        # Print heap to debug\n",
    "        # print(heap.getMin())\n",
    "        w = heap.removeMin()\n",
    "        # print(w.__dict__)\n",
    "        w.path = G[w.v_min].path + [w.id]\n",
    "        # print(\"Remove {} length {} path {}\".format(w, w.d, w.path))\n",
    "        heap.updateHeap(w)\n",
    "        VX.remove(w)\n",
    "        X.append(w)\n",
    "        \n",
    "            "
   ]
  },
  {
   "attachments": {},
   "cell_type": "markdown",
   "metadata": {},
   "source": [
    "#### Load adjacency list"
   ]
  },
  {
   "cell_type": "code",
   "execution_count": 270,
   "metadata": {},
   "outputs": [
    {
     "name": "stdout",
     "output_type": "stream",
     "text": [
      "Node 7 distance 2599\n",
      "Node 37 distance 2610\n",
      "Node 59 distance 2947\n",
      "Node 82 distance 2052\n",
      "Node 99 distance 2367\n",
      "Node 115 distance 2399\n",
      "Node 133 distance 2029\n",
      "Node 165 distance 2442\n",
      "Node 188 distance 2505\n",
      "Node 197 distance 3068\n"
     ]
    }
   ],
   "source": [
    "with open('dijkstraData.txt') as f:\n",
    "    lines = f.readlines()\n",
    "\n",
    "# Initialize Graph\n",
    "G = {i:Vertice(i) for i in range(1,len(lines)+1)}\n",
    "for line in lines:\n",
    "    data = line.rstrip().split()\n",
    "    v = int(data[0])\n",
    "    for i in range(1, len(data)):\n",
    "        w, l = data[i].split(',')\n",
    "        G[v].outedges[int(w)] = int(l)\n",
    "        G[int(w)].inedges[v] = int(l)\n",
    "\n",
    "dijkstra_heap(G)\n",
    "nodes = [7,37,59,82,99,115,133,165,188,197]\n",
    "# nodes = [i for i in range(1,11)]\n",
    "for node in nodes:\n",
    "    print(\"Node {} distance {}\".format(node, G[node].d))"
   ]
  },
  {
   "attachments": {},
   "cell_type": "markdown",
   "metadata": {},
   "source": [
    "**Answer:**\n",
    "\n",
    "- Node 7 distance 2599\n",
    "- Node 37 distance 2610\n",
    "- Node 59 distance 2947\n",
    "- Node 82 distance 2052\n",
    "- Node 99 distance 2367\n",
    "- Node 115 distance 2399\n",
    "- Node 133 distance 2029\n",
    "- Node 165 distance 2442\n",
    "- Node 188 distance 2505\n",
    "- Node 197 distance 3068"
   ]
  },
  {
   "cell_type": "code",
   "execution_count": 271,
   "metadata": {},
   "outputs": [
    {
     "name": "stdout",
     "output_type": "stream",
     "text": [
      "2599,2610,2947,2052,2367,2399,2029,2442,2505,3068\n"
     ]
    }
   ],
   "source": [
    "result = []\n",
    "for node in nodes:\n",
    "    result.append(G[node].d)\n",
    "print(\",\".join(map(str, result)))"
   ]
  }
 ],
 "metadata": {
  "kernelspec": {
   "display_name": "Python 3",
   "language": "python",
   "name": "python3"
  },
  "language_info": {
   "codemirror_mode": {
    "name": "ipython",
    "version": 3
   },
   "file_extension": ".py",
   "mimetype": "text/x-python",
   "name": "python",
   "nbconvert_exporter": "python",
   "pygments_lexer": "ipython3",
   "version": "3.8.16"
  },
  "orig_nbformat": 4,
  "vscode": {
   "interpreter": {
    "hash": "949777d72b0d2535278d3dc13498b2535136f6dfe0678499012e853ee9abcab1"
   }
  }
 },
 "nbformat": 4,
 "nbformat_minor": 2
}
