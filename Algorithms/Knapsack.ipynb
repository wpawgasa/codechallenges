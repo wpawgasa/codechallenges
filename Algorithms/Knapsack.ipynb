{
 "cells": [
  {
   "cell_type": "code",
   "execution_count": 1,
   "metadata": {},
   "outputs": [],
   "source": [
    "import numpy as np"
   ]
  },
  {
   "cell_type": "code",
   "execution_count": 2,
   "metadata": {},
   "outputs": [],
   "source": [
    "def read_data(filepath):\n",
    "    ''' Read the knapsack from file\n",
    "        return capacity, number of items, values and weights of each item\n",
    "    '''\n",
    "    with open(filepath, 'r') as f:\n",
    "        lines = f.readlines()\n",
    "        C, N = (int(lines[0].split(' ')[0]), int(lines[0].split(' ')[1]))\n",
    "        values = [int(line.split(' ')[0]) for line in lines[1:]]\n",
    "        weights = [int(line.split(' ')[1]) for line in lines[1:]]\n",
    "    return C, N, values, weights"
   ]
  },
  {
   "cell_type": "code",
   "execution_count": 3,
   "metadata": {},
   "outputs": [],
   "source": [
    "def knapsack(C, N, values, weights):\n",
    "    A = np.zeros([N+1, C+1])\n",
    "    for i in range(1, N+1):\n",
    "        for c in range(C+1):\n",
    "            if weights[i-1] > c:\n",
    "                A[i, c] = A[i-1, c]\n",
    "            else:\n",
    "                A[i, c] = np.max([A[i-1,c],A[i-1,c-weights[i-1]]+values[i-1]])\n",
    "\n",
    "    return A[N, C]\n"
   ]
  },
  {
   "cell_type": "code",
   "execution_count": 7,
   "metadata": {},
   "outputs": [],
   "source": [
    "def big_knapsack(w, v, values, weights):\n",
    "    if w <= 0:\n",
    "        return 0\n",
    "    if len(values) == 1:\n",
    "        if weights[0] <= w:\n",
    "            return values[0]\n",
    "        else:\n",
    "            return 0\n",
    "    v1 = v.get((len(values[:-1]), w))\n",
    "    if not v1:\n",
    "        v1 = big_knapsack(w, v, values[:-1], weights[:-1])\n",
    "        v[(len(values[:-1]), w)] = v1\n",
    "    v2 = v.get((len(values[:-1]), w - weights[-1]))\n",
    "    if not v2:\n",
    "        v2 = big_knapsack(w - weights[-1], v, values[:-1], weights[:-1])\n",
    "        v[(len(values[:-1]), w - weights[-1])] = v2\n",
    "    if weights[-1] <= w:\n",
    "        v2 = v2 + values[-1]\n",
    "    else:\n",
    "        v2 = 0\n",
    "    return max(v1, v2)"
   ]
  },
  {
   "cell_type": "code",
   "execution_count": 4,
   "metadata": {},
   "outputs": [
    {
     "data": {
      "text/plain": [
       "2493893.0"
      ]
     },
     "execution_count": 4,
     "metadata": {},
     "output_type": "execute_result"
    }
   ],
   "source": [
    "PATH_TO_FILE = '/workspace/Algorithms/knapsack1.txt'\n",
    "C, N, values, weights = read_data(PATH_TO_FILE)\n",
    "ans = knapsack(C, N, values, weights)\n",
    "ans"
   ]
  },
  {
   "cell_type": "code",
   "execution_count": 8,
   "metadata": {},
   "outputs": [
    {
     "data": {
      "text/plain": [
       "4243395"
      ]
     },
     "execution_count": 8,
     "metadata": {},
     "output_type": "execute_result"
    }
   ],
   "source": [
    "PATH_TO_FILE = '/workspace/Algorithms/knapsack_big.txt'\n",
    "C, N, values, weights = read_data(PATH_TO_FILE)\n",
    "V = {}\n",
    "ans = big_knapsack(C, V, values, weights)\n",
    "ans"
   ]
  }
 ],
 "metadata": {
  "kernelspec": {
   "display_name": "Python 3",
   "language": "python",
   "name": "python3"
  },
  "language_info": {
   "codemirror_mode": {
    "name": "ipython",
    "version": 3
   },
   "file_extension": ".py",
   "mimetype": "text/x-python",
   "name": "python",
   "nbconvert_exporter": "python",
   "pygments_lexer": "ipython3",
   "version": "3.8.16"
  },
  "orig_nbformat": 4
 },
 "nbformat": 4,
 "nbformat_minor": 2
}
