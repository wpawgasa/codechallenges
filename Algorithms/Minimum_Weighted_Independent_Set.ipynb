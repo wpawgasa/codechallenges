{
 "cells": [
  {
   "attachments": {},
   "cell_type": "markdown",
   "metadata": {},
   "source": [
    "## Minimum Weighted Independent Set\n",
    "\n",
    "We'll code up the dynamic programming algorithm for computing a maximum-weight independent set of a path graph. The input file describes the weights of the vertices in a path graph (with the weights listed in the order in which vertices appear in the path). It has the following format:\n",
    "\n",
    "[number_of_vertices]\n",
    "\n",
    "[weight of first vertex]\n",
    "\n",
    "[weight of second vertex]\n",
    "\n",
    "...\n",
    "\n",
    "For example, the third line of the file is \"6395702,\" indicating that the weight of the second vertex of the graph is 6395702. \n",
    "\n",
    "Your task in this problem is to run the dynamic programming algorithm (and the reconstruction procedure) from lecture on this data set.  The question is: of the vertices 1, 2, 3, 4, 17, 117, 517, and 997, which ones belong to the maximum-weight independent set?  (By \"vertex 1\" we mean the first vertex of the graph---there is no vertex 0.)   In the box below, enter a 8-bit string, where the ith bit should be 1 if the ith of these 8 vertices is in the maximum-weight independent set, and 0 otherwise. For example, if you think that the vertices 1, 4, 17, and 517 are in the maximum-weight independent set and the other four vertices are not, then you should return the string 10011010."
   ]
  },
  {
   "cell_type": "code",
   "execution_count": 10,
   "metadata": {},
   "outputs": [],
   "source": [
    "def mwis(graph):\n",
    "    A = [0] * (len(graph) + 1)\n",
    "    A[1] = graph[0]\n",
    "    for i in range(2, len(graph) + 1):\n",
    "        A[i] = max(A[i - 1], A[i - 2] + graph[i - 1])\n",
    "\n",
    "    S = []\n",
    "    i = len(graph)\n",
    "    while i > 0:\n",
    "        if A[i] > A[i - 2] + graph[i - 1]:\n",
    "            i -= 1\n",
    "        else:\n",
    "            S.append(i)\n",
    "            i -= 2\n",
    "    return S"
   ]
  },
  {
   "cell_type": "code",
   "execution_count": 11,
   "metadata": {},
   "outputs": [],
   "source": [
    "input_file = '/workspace/Algorithms/mwis.txt'\n",
    "\n",
    "graph = []\n",
    "with open(input_file) as f:\n",
    "    lines = f.readlines()\n",
    "    graph = [int(line.split()[0]) for line in lines[1:]]"
   ]
  },
  {
   "cell_type": "code",
   "execution_count": 13,
   "metadata": {},
   "outputs": [
    {
     "data": {
      "text/plain": [
       "'10100110'"
      ]
     },
     "execution_count": 13,
     "metadata": {},
     "output_type": "execute_result"
    }
   ],
   "source": [
    "target = [1, 2, 3, 4, 17, 117, 517, 997]\n",
    "S = mwis(graph)\n",
    "ans = ''\n",
    "for i in target:\n",
    "    if i in S:\n",
    "        ans += '1'\n",
    "    else:\n",
    "        ans += '0'\n",
    "ans"
   ]
  }
 ],
 "metadata": {
  "kernelspec": {
   "display_name": "Python 3",
   "language": "python",
   "name": "python3"
  },
  "language_info": {
   "codemirror_mode": {
    "name": "ipython",
    "version": 3
   },
   "file_extension": ".py",
   "mimetype": "text/x-python",
   "name": "python",
   "nbconvert_exporter": "python",
   "pygments_lexer": "ipython3",
   "version": "3.8.16"
  },
  "orig_nbformat": 4
 },
 "nbformat": 4,
 "nbformat_minor": 2
}
