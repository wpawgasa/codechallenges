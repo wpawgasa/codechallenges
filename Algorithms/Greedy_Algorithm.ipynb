{
 "cells": [
  {
   "attachments": {},
   "cell_type": "markdown",
   "metadata": {},
   "source": [
    "## Greedy Scheduling Algorithm\n",
    "\n",
    "Your task in this problem is to run the greedy algorithm that schedules jobs in decreasing order of the difference (weight - length).  Recall from lecture that this algorithm is not always optimal.  IMPORTANT: if two jobs have equal difference (weight - length), you should schedule the job with higher weight first.  Beware: if you break ties in a different way, you are likely to get the wrong answer.  You should report the sum of weighted completion times of the resulting schedule\n",
    "\n",
    "The `jobs.txt` file describes a set of jobs with positive and integral weights and lengths.  It has the format\n",
    "\n",
    "[number_of_jobs]\n",
    "\n",
    "[job_1_weight] [job_1_length]\n",
    "\n",
    "[job_2_weight] [job_2_length]\n",
    "\n",
    "...\n",
    "\n",
    "For example, the third line of the file is \"74 59\", indicating that the second job has weight 74 and length 59."
   ]
  },
  {
   "cell_type": "code",
   "execution_count": 18,
   "metadata": {},
   "outputs": [],
   "source": [
    "with open('jobs.txt') as f:\n",
    "    lines = f.readlines()\n",
    "\n",
    "num_jobs = int(lines[0].strip())\n",
    "jobs = []\n",
    "for i,line in enumerate(lines[1:]):\n",
    "    w_i, l_i = line.strip().split(' ')\n",
    "    w_i = int(w_i)\n",
    "    l_i = int(l_i)\n",
    "    jobs.append((w_i, l_i, w_i - l_i, w_i/l_i))\n",
    "\n",
    "\n"
   ]
  },
  {
   "cell_type": "code",
   "execution_count": 19,
   "metadata": {},
   "outputs": [
    {
     "data": {
      "text/plain": [
       "[(99, 1, 98, 99.0),\n",
       " (100, 3, 97, 33.333333333333336),\n",
       " (100, 3, 97, 33.333333333333336),\n",
       " (99, 2, 97, 49.5),\n",
       " (99, 2, 97, 49.5),\n",
       " (98, 1, 97, 98.0),\n",
       " (98, 2, 96, 49.0),\n",
       " (98, 2, 96, 49.0),\n",
       " (98, 2, 96, 49.0),\n",
       " (99, 4, 95, 24.75)]"
      ]
     },
     "execution_count": 19,
     "metadata": {},
     "output_type": "execute_result"
    }
   ],
   "source": [
    "# sort jobs by w_i - l_i\n",
    "sorted_jobs_1 = sorted(jobs, key=lambda x:(x[2], x[0]), reverse=True)\n",
    "sorted_jobs_1[:10]"
   ]
  },
  {
   "cell_type": "code",
   "execution_count": 20,
   "metadata": {},
   "outputs": [
    {
     "data": {
      "text/plain": [
       "69119377652"
      ]
     },
     "execution_count": 20,
     "metadata": {},
     "output_type": "execute_result"
    }
   ],
   "source": [
    "completion_time = 0\n",
    "weighted_sum = 0\n",
    "for job in sorted_jobs_1:\n",
    "    completion_time += job[1]\n",
    "    weighted_sum += job[0]*completion_time\n",
    "\n",
    "weighted_sum "
   ]
  },
  {
   "cell_type": "code",
   "execution_count": 21,
   "metadata": {},
   "outputs": [
    {
     "data": {
      "text/plain": [
       "[(99, 1, 98, 99.0),\n",
       " (98, 1, 97, 98.0),\n",
       " (95, 1, 94, 95.0),\n",
       " (95, 1, 94, 95.0),\n",
       " (93, 1, 92, 93.0),\n",
       " (93, 1, 92, 93.0),\n",
       " (92, 1, 91, 92.0),\n",
       " (88, 1, 87, 88.0),\n",
       " (87, 1, 86, 87.0),\n",
       " (86, 1, 85, 86.0)]"
      ]
     },
     "execution_count": 21,
     "metadata": {},
     "output_type": "execute_result"
    }
   ],
   "source": [
    "# sort jobs by w_i/l_i\n",
    "sorted_jobs_2 = sorted(jobs, key=lambda x:-x[3])\n",
    "sorted_jobs_2[:10]"
   ]
  },
  {
   "cell_type": "code",
   "execution_count": 22,
   "metadata": {},
   "outputs": [
    {
     "data": {
      "text/plain": [
       "67311454237"
      ]
     },
     "execution_count": 22,
     "metadata": {},
     "output_type": "execute_result"
    }
   ],
   "source": [
    "completion_time = 0\n",
    "weighted_sum = 0\n",
    "for job in sorted_jobs_2:\n",
    "    completion_time += job[1]\n",
    "    weighted_sum += job[0]*completion_time\n",
    "\n",
    "weighted_sum "
   ]
  }
 ],
 "metadata": {
  "kernelspec": {
   "display_name": "Python 3",
   "language": "python",
   "name": "python3"
  },
  "language_info": {
   "codemirror_mode": {
    "name": "ipython",
    "version": 3
   },
   "file_extension": ".py",
   "mimetype": "text/x-python",
   "name": "python",
   "nbconvert_exporter": "python",
   "pygments_lexer": "ipython3",
   "version": "3.8.16"
  },
  "orig_nbformat": 4
 },
 "nbformat": 4,
 "nbformat_minor": 2
}
