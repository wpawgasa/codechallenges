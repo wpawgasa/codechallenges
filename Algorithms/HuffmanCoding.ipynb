{
 "cells": [
  {
   "attachments": {},
   "cell_type": "markdown",
   "metadata": {},
   "source": [
    "## Huffman Coding\n",
    "\n",
    "We'll use greedy algorithm to implement Huffman coding. The input file describes an instance of the problem. It has the following format:\n",
    "\n",
    "[number_of_symbols]\n",
    "\n",
    "[weight of symbol #1]\n",
    "\n",
    "[weight of symbol #2]\n",
    "\n",
    "...\n",
    "\n",
    "For example, the third line of the file is \"6852892,\" indicating that the weight of the second symbol of the alphabet is 6852892.\n",
    "\n",
    "Return the maximum length of a codeword in the resulting Huffman code?\n"
   ]
  },
  {
   "cell_type": "code",
   "execution_count": 6,
   "metadata": {},
   "outputs": [],
   "source": [
    "from heapq import *"
   ]
  },
  {
   "cell_type": "code",
   "execution_count": 7,
   "metadata": {},
   "outputs": [],
   "source": [
    "def huffman_coding(codebook):\n",
    "    \"\"\" compute the min and max coding length from a given list of symbols\n",
    "        using heap to find the two symbols with minimal weights\n",
    "    \"\"\"\n",
    "    weight = [[w[0], w[1], w[2]] for node, w in codebook.items()]\n",
    "    heapify(weight)\n",
    "    while len(weight) > 1:\n",
    "        i, j = heappop(weight), heappop(weight)\n",
    "        heappush(weight, [i[0] + j[0], 1 + min(i[1], j[1]), 1 + max(i[2], j[2])])\n",
    "    return weight[0][1], weight[0][2]"
   ]
  },
  {
   "cell_type": "code",
   "execution_count": 8,
   "metadata": {},
   "outputs": [],
   "source": [
    "input_file = '/workspace/Algorithms/huffman.txt'\n",
    "codebook = {}\n",
    "with open(input_file) as f:\n",
    "    lines = f.readlines()\n",
    "    for i, line in enumerate(lines[1:]):\n",
    "        codebook[i] = [int(line.split()[0]), 0, 0]"
   ]
  },
  {
   "cell_type": "code",
   "execution_count": 9,
   "metadata": {},
   "outputs": [
    {
     "data": {
      "text/plain": [
       "(9, 19)"
      ]
     },
     "execution_count": 9,
     "metadata": {},
     "output_type": "execute_result"
    }
   ],
   "source": [
    "huffman_coding(codebook)"
   ]
  }
 ],
 "metadata": {
  "kernelspec": {
   "display_name": "Python 3",
   "language": "python",
   "name": "python3"
  },
  "language_info": {
   "codemirror_mode": {
    "name": "ipython",
    "version": 3
   },
   "file_extension": ".py",
   "mimetype": "text/x-python",
   "name": "python",
   "nbconvert_exporter": "python",
   "pygments_lexer": "ipython3",
   "version": "3.8.16"
  },
  "orig_nbformat": 4
 },
 "nbformat": 4,
 "nbformat_minor": 2
}
