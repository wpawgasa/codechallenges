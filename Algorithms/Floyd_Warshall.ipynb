{
 "cells": [
  {
   "cell_type": "markdown",
   "metadata": {},
   "source": [
    "## Floyd-Warshall Algorithm for all-pairs shortest-path problem"
   ]
  },
  {
   "cell_type": "code",
   "execution_count": 1,
   "metadata": {},
   "outputs": [],
   "source": [
    "# Load graph\n",
    "def load_graph(file_path):\n",
    "    \"\"\" Load the graph from file \"\"\"\n",
    "    graph = {}\n",
    "    with open(file_path, \"r\") as f:\n",
    "        lines = f.readlines()\n",
    "        # get number of vertices and edges\n",
    "        n, m = int(lines[0].split()[0]), int(lines[0].split()[1])\n",
    "        # get edges\n",
    "        for line in lines[1:]:\n",
    "            graph[(int(line.split()[0]), int(line.split()[1]))] = int(line.split()[2])\n",
    "\n",
    "    return graph, n"
   ]
  },
  {
   "cell_type": "markdown",
   "metadata": {},
   "source": [
    "**Floyd-Warshall Algorithm**"
   ]
  },
  {
   "cell_type": "code",
   "execution_count": 2,
   "metadata": {},
   "outputs": [],
   "source": [
    "def floyd_warshall(graph, n):\n",
    "    \"\"\"\n",
    "    Compute the min all-pair shortest distance using Floyd-Warshall Algorithm\n",
    "    \"\"\"\n",
    "    # Use dict to store each path length at current hop A[(v, w)]. \n",
    "    A = {}\n",
    "    for v in range(1, n+1):\n",
    "        for w in range(1, n+1):\n",
    "            if v==w:\n",
    "                A[(v, w)] = 0\n",
    "            elif (v, w) in graph:\n",
    "                A[(v, w)] = graph[(v, w)]\n",
    "            else:\n",
    "                A[(v, w)] = float('inf')\n",
    "    # Iterate for each k = 1,..,n\n",
    "    for k in range(1, n+1):\n",
    "        # Use another dict to store path length at the next hop\n",
    "        A_next = {}\n",
    "        for v in range(1, n+1):\n",
    "            for w in range(1, n+1):\n",
    "                A_next[(v, w)] = min(A[(v,w)], A[(v,k)]+A[(k,w)])\n",
    "        # Copy dict to use as previous path lengths for the next hop\n",
    "        A = A_next.copy()\n",
    "\n",
    "    # Check for negative cycle\n",
    "    for v in range(1, n+1):\n",
    "        if A[(v,v)] < 0:\n",
    "            return None\n",
    "    return min(A.values())"
   ]
  },
  {
   "cell_type": "code",
   "execution_count": 3,
   "metadata": {},
   "outputs": [],
   "source": [
    "graph, n = load_graph('/workspace/Algorithms/g1.txt')\n",
    "g1 = floyd_warshall(graph, n)\n",
    "g1"
   ]
  },
  {
   "cell_type": "code",
   "execution_count": 4,
   "metadata": {},
   "outputs": [
    {
     "name": "stdout",
     "output_type": "stream",
     "text": [
      "None\n"
     ]
    }
   ],
   "source": [
    "if g1 is None:\n",
    "    print(g1)"
   ]
  },
  {
   "cell_type": "code",
   "execution_count": 5,
   "metadata": {},
   "outputs": [],
   "source": [
    "graph, n = load_graph('/workspace/Algorithms/g2.txt')\n",
    "g2 = floyd_warshall(graph, n)\n",
    "g2"
   ]
  },
  {
   "cell_type": "code",
   "execution_count": 6,
   "metadata": {},
   "outputs": [
    {
     "data": {
      "text/plain": [
       "-19"
      ]
     },
     "execution_count": 6,
     "metadata": {},
     "output_type": "execute_result"
    }
   ],
   "source": [
    "graph, n = load_graph('/workspace/Algorithms/g3.txt')\n",
    "g3 = floyd_warshall(graph, n)\n",
    "g3"
   ]
  }
 ],
 "metadata": {
  "kernelspec": {
   "display_name": "Python 3",
   "language": "python",
   "name": "python3"
  },
  "language_info": {
   "codemirror_mode": {
    "name": "ipython",
    "version": 3
   },
   "file_extension": ".py",
   "mimetype": "text/x-python",
   "name": "python",
   "nbconvert_exporter": "python",
   "pygments_lexer": "ipython3",
   "version": "3.8.16"
  },
  "orig_nbformat": 4
 },
 "nbformat": 4,
 "nbformat_minor": 2
}
