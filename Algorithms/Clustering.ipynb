{
 "cells": [
  {
   "attachments": {},
   "cell_type": "markdown",
   "metadata": {},
   "source": [
    "## Clustering\n",
    "\n",
    "We will compute a max-spacing k clustering with Kruskal's Algorithm.\n",
    "\n",
    "**Kruskal's Algorithm with Union-Find**\n",
    "\n",
    "**Input:** A complete undirected graph $G=(V,E)$ with distance $d_{xy}$ for each vertex pair $x,y\\in V$\n",
    "\n",
    "**Output:** A minimum spanning tree of G\n",
    "\n",
    "1. $T:=\\emptyset$\n",
    "\n",
    "2. $U:=Initialize(V)$\n",
    "\n",
    "3. sort edges of E by distance in increasing order\n",
    "\n",
    "4. **for** each edge $(v,w)\\in E$ **do**\n",
    "\n",
    "   4.1 **if** $Find(U,v)\\neq Find(U,w)$ **then**\n",
    "\n",
    "   4.2 no v-w path in T, ok to add (v,w) $T:=T \\cup {(v,w)}$ \n",
    "\n",
    "   4.3 $Union(U,v,w)$\n",
    "\n",
    "5. return T\n",
    "\n",
    "**Single-Link Clustering Algorithm**\n",
    "\n",
    "1. Define a complete undirected graph $G=(V,E)$ with distance $d_{xy}$ for each vertex pair $x,y\\in V$.\n",
    "\n",
    "2. Run Kruskal's algorithm with input graph G until T contains $|V|-k$ edges or having k connected components.\n",
    "\n",
    "3. Compute the connected components of (X,T) and return the corresponding partition of X."
   ]
  },
  {
   "cell_type": "code",
   "execution_count": 10,
   "metadata": {},
   "outputs": [],
   "source": [
    "# Union-Find  Data Structure\n",
    "class UnionFind():\n",
    "    def __init__(self, nodes):\n",
    "        self.root = dict(zip(nodes, nodes))\n",
    "        self.subtree = dict(zip(nodes, [[node] for node in nodes]))\n",
    "\n",
    "    def find(self, node):\n",
    "        \"\"\" find the root of a node \"\"\"\n",
    "        return self.root[node]\n",
    "\n",
    "    def union(self, i, j):\n",
    "        \"\"\" union two nodes i and j by merging a smaller tree to the larger one \"\"\"\n",
    "        pi, pj = self.root[i], self.root[j]\n",
    "        if pi != pj:\n",
    "            if len(self.subtree[pj]) > len(self.subtree[pi]):\n",
    "                pi, pj = pj, pi\n",
    "\n",
    "            for node in self.subtree[pj]:\n",
    "                self.root[node] = pi\n",
    "            self.subtree[pi] += self.subtree[pj]\n",
    "            del self.subtree[pj]\n",
    "\n",
    "        else:\n",
    "            return"
   ]
  },
  {
   "cell_type": "code",
   "execution_count": 11,
   "metadata": {},
   "outputs": [],
   "source": [
    "def clustering(graph, k):\n",
    "    \"\"\" compute the maximum spacing of a k-cluster \"\"\"\n",
    "    nodes = set()\n",
    "    for u, v, d in graph:\n",
    "        nodes.add(u)\n",
    "        nodes.add(v)\n",
    "\n",
    "    group = UnionFind(nodes)\n",
    "    # sort the graph by costs\n",
    "    graph = sorted(graph, key=lambda x: x[2])\n",
    "\n",
    "    while len(group.subtree.keys()) > k:\n",
    "        u, v, d = graph.pop(0)\n",
    "        group.union(u, v)\n",
    "\n",
    "    # do not output the cost between two nodes that are both in the same cluster\n",
    "    while True:\n",
    "        u, v, min_cost = graph.pop(0)\n",
    "        if group.find(u) != group.find(v):\n",
    "            break\n",
    "\n",
    "    return min_cost"
   ]
  },
  {
   "cell_type": "code",
   "execution_count": 12,
   "metadata": {},
   "outputs": [
    {
     "data": {
      "text/plain": [
       "106"
      ]
     },
     "execution_count": 12,
     "metadata": {},
     "output_type": "execute_result"
    }
   ],
   "source": [
    "input_file = '/workspace/Algorithms/clustering1.txt'\n",
    "\n",
    "with open(input_file, 'r') as f:\n",
    "    lines = f.readlines()\n",
    "\n",
    "G = [(int(line.split()[0]), int(line.split()[1]), int(line.split()[2])) for line in lines[1:]]\n",
    "cost = clustering(G, 4)\n",
    "cost"
   ]
  },
  {
   "attachments": {},
   "cell_type": "markdown",
   "metadata": {},
   "source": [
    "Next, we will cluster by hamming distance between binary data points. For example, the third line of the file \"0 1 1 0 0 1 1 0 0 1 0 1 1 1 1 1 1 0 1 0 1 1 0 1\" denotes the 24 bits associated with node #2. The distance between two nodes u and v in this problem is defined as the Hamming distance--- the number of differing bits --- between the two nodes' labels.  For example, the Hamming distance between the 24-bit label of node #2 above and the label \"0 1 0 0 0 1 0 0 0 1 0 1 1 1 1 1 1 0 1 0 0 1 0 1\" is 3 (since they differ in the 3rd, 7th, and 21st bits). The question is: what is the largest value of k such that there is a k-clustering with spacing at least 3?  That is, how many clusters are needed to ensure that no pair of nodes with all but 2 bits in common get split into different clusters? (Hamming distance between each member in the same group is at most 2)"
   ]
  },
  {
   "cell_type": "code",
   "execution_count": 13,
   "metadata": {},
   "outputs": [],
   "source": [
    "from collections import defaultdict\n",
    "from itertools import combinations"
   ]
  },
  {
   "cell_type": "code",
   "execution_count": 14,
   "metadata": {},
   "outputs": [],
   "source": [
    "\n",
    "\n",
    "\n",
    "def hamming1(num):\n",
    "    \"\"\" return the list of numbers with 1 bit difference from num \"\"\"\n",
    "    masks = [1 << i for i in range(num.bit_length())]\n",
    "    code = [num ^ mask for mask in masks]\n",
    "    return code\n",
    "\n",
    "\n",
    "def hamming2(num):\n",
    "    \"\"\" return the list of numbers with 2 bit difference from num \"\"\"\n",
    "    masks = [(1 << i) ^ (1 << j) for (i, j) in combinations(range(num.bit_length()), 2)]\n",
    "    code = [num ^ mask for mask in masks]\n",
    "    return code"
   ]
  },
  {
   "cell_type": "code",
   "execution_count": 15,
   "metadata": {},
   "outputs": [],
   "source": [
    "def clustering2(nodes):\n",
    "    \"\"\" clustering the nodes by hamming distance \"\"\"\n",
    "    clusters = UnionFind(nodes)\n",
    "    for num in nodes:\n",
    "        for code in hamming1(num):\n",
    "            if code in nodes:\n",
    "                clusters.union(num, code)\n",
    "\n",
    "        for code in hamming2(num):\n",
    "            if code in nodes:\n",
    "                clusters.union(num, code)\n",
    "\n",
    "    return len(clusters.subtree.keys())"
   ]
  },
  {
   "cell_type": "code",
   "execution_count": 16,
   "metadata": {},
   "outputs": [
    {
     "data": {
      "text/plain": [
       "6118"
      ]
     },
     "execution_count": 16,
     "metadata": {},
     "output_type": "execute_result"
    }
   ],
   "source": [
    "\n",
    "\n",
    "\n",
    "input_file = '/workspace/Algorithms/clustering_big.txt'\n",
    "\n",
    "with open(input_file, 'r') as f:\n",
    "    lines = f.readlines()\n",
    "\n",
    "graph = defaultdict(list)\n",
    "for i, line in enumerate(lines[1:]):\n",
    "    num = int(''.join(line.split()), 2)\n",
    "    graph[num].append(i)\n",
    "cost = clustering2(graph)\n",
    "cost"
   ]
  }
 ],
 "metadata": {
  "kernelspec": {
   "display_name": "Python 3",
   "language": "python",
   "name": "python3"
  },
  "language_info": {
   "codemirror_mode": {
    "name": "ipython",
    "version": 3
   },
   "file_extension": ".py",
   "mimetype": "text/x-python",
   "name": "python",
   "nbconvert_exporter": "python",
   "pygments_lexer": "ipython3",
   "version": "3.8.16"
  },
  "orig_nbformat": 4
 },
 "nbformat": 4,
 "nbformat_minor": 2
}
