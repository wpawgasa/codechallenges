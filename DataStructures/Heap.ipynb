{
 "cells": [
  {
   "attachments": {},
   "cell_type": "markdown",
   "metadata": {},
   "source": [
    "# Heap\n",
    "\n",
    "A heap is a tree-based data structure. There are two types of heap: Max-heap and Min-heap. In a Max-Heap the key present at the root node must be greatest among the keys present at all of its children. The same property must be recursively true for all sub-trees in that tree. In contrast, a Min-Heap the key present at the root node must be the minimum among the keys present at all of its children.\n",
    "\n",
    "![](https://media.geeksforgeeks.org/wp-content/cdn-uploads/20221220165711/MinHeapAndMaxHeap1.png)\n",
    "\n",
    "## Operations supported by a heap:\n",
    "\n",
    "- **Heapify:** It is the process to rearrange the elements to maintain the property of heap data structure. It is done when a certain node creates an imbalance in the heap due to some operations on that node. It takes $O(log N)$ to balance the tree. \n",
    "- **Insertion:** We insert new node as a leaf in the heap, then perform heapify to maintain heap data structure. It requires $O(log N)$.\n",
    "- **Deletion:** We always delete the root node from the heap. it will distort the properties of the heap so we need to perform heapify operations so that it maintains the property of the heap. It requires $O(log N)$.\n",
    "\n",
    "##### Algorithm: Min-Heapify (Restore heap structure)\n",
    "\n",
    "0. Initialize an empty array `arr` for storing elements in heap. Insert element to `arr` in arbitary order.\n",
    "1. Given an element at $i$ of `arr`, The left and the right child of $i$ node are in indices $2*i+1$ and $2*i+2$ respectively.\n",
    "2. Set `MINIMUM` to be $i$ \n",
    "3. If $arr[2*i+1]<arr[i]$, set `MINIMUM` to be $2*i+1$\n",
    "4. If $arr[2*i+2]<arr[MINIMUM]$, set `MINIMUM` to be $2*i+2$\n",
    "5. Swap element at `MINIMUM` with element at $i$\n",
    "6. Recursively repeat 1-5 with `MINIMUM` being passed as $i$\n",
    "\n",
    "\n",
    "##### Algorithm: Insert a node\n",
    "\n",
    "0. Increment heap size by 1\n",
    "1. Append the new node at the the end of `arr`. Assign $i$ as index of the new node in `arr`. \n",
    "2. If $i\\neq 0$ and parent of node $i$ (element at $(i-1)/2$) is greater than node $i$, swap parent of $i$ with node $i$.\n",
    "3. Set $i$ as index of parent of node $i$.\n",
    "4. Repeat 2-3 until $ieq 0$ and parent of node $i$ (element at $(i-1)/2$) is less than or equal to node $i$.\n",
    "\n",
    "##### Algorithm: Remove minimum node\n",
    "\n",
    "1. Check heap size. If the heap size is 0, return None. If the heap size is 1, return the first element of `arr` and set heapSize to 0. Otherwise, copy the first element of `arr`.\n",
    "2. Replace the first element of `arr` by the last element.\n",
    "3. Reduce the heap size by 1.\n",
    "4. Call the heapify function with $i=0$\n"
   ]
  },
  {
   "cell_type": "code",
   "execution_count": 16,
   "metadata": {},
   "outputs": [],
   "source": [
    "class MinHeap:\n",
    "\n",
    "    def __init__(self, maxSize):\n",
    "        self.maxSize = maxSize\n",
    "        self.arr = [None]*maxSize\n",
    "        self.heapSize = 0\n",
    "\n",
    "    def heapify(self, i):\n",
    "        l = 2*i + 1\n",
    "        r = 2*i + 2\n",
    "        minimum = i\n",
    "        if l < self.heapSize and self.arr[l] < self.arr[i]:\n",
    "            minimum = l\n",
    "        if r < self.heapSize and self.arr[r] < self.arr[minimum]:\n",
    "            minimum = r\n",
    "        if minimum != i:\n",
    "            tmp = self.arr[i]\n",
    "            self.arr[i] = self.arr[minimum]\n",
    "            self.arr[minimum] = tmp\n",
    "            self.heapify(minimum)\n",
    "\n",
    "    def insert(self, x):\n",
    "        if self.heapSize == self.maxSize:\n",
    "            print(\"Overflow: Cannot insert any more node.\")\n",
    "            return\n",
    "        \n",
    "        self.heapSize += 1\n",
    "        i = self.heapSize - 1\n",
    "        self.arr[i] = x\n",
    "        parent = (i - 1)//2\n",
    "        while i != 0 and self.arr[parent] > self.arr[i]:\n",
    "            tmp = self.arr[i]\n",
    "            self.arr[i] = self.arr[parent]\n",
    "            self.arr[parent] = tmp\n",
    "            i = parent\n",
    "            parent = (i - 1)//2\n",
    "\n",
    "    def removeMin(self):\n",
    "        if self.heapSize <= 0:\n",
    "            return None\n",
    "        if self.heapSize == 1:\n",
    "            self.heapSize = 0\n",
    "            minimum = self.arr[0]\n",
    "            self.arr[0] = None\n",
    "            return minimum\n",
    "        \n",
    "        minimum = self.arr[0]\n",
    "        self.arr[0] = self.arr[self.heapSize - 1]\n",
    "        self.heapSize -= 1\n",
    "\n",
    "        self.heapify(0)\n",
    "\n",
    "        return minimum\n",
    "\n",
    "\n",
    "    def getMin(self):\n",
    "        return self.arr[0]\n"
   ]
  },
  {
   "cell_type": "code",
   "execution_count": 17,
   "metadata": {},
   "outputs": [],
   "source": [
    "# Test heap data structure\n",
    "h = MinHeap(15)\n",
    "h.insert(3)\n",
    "h.insert(5)\n",
    "h.insert(15)\n",
    "h.insert(7)\n",
    "h.insert(2)\n",
    "# h.heapify(0)"
   ]
  },
  {
   "cell_type": "code",
   "execution_count": 18,
   "metadata": {},
   "outputs": [
    {
     "data": {
      "text/plain": [
       "[2, 3, 15, 7, 5, None, None, None, None, None, None, None, None, None, None]"
      ]
     },
     "execution_count": 18,
     "metadata": {},
     "output_type": "execute_result"
    }
   ],
   "source": [
    "h.arr"
   ]
  },
  {
   "cell_type": "code",
   "execution_count": 11,
   "metadata": {},
   "outputs": [
    {
     "name": "stdout",
     "output_type": "stream",
     "text": [
      "Root element is 2\n"
     ]
    }
   ],
   "source": [
    "print(\"Root element is {}\".format(h.getMin()))"
   ]
  },
  {
   "cell_type": "code",
   "execution_count": 12,
   "metadata": {},
   "outputs": [
    {
     "data": {
      "text/plain": [
       "[3, 5, 15, 7, 5, None, None, None, None, None, None, None, None, None, None]"
      ]
     },
     "execution_count": 12,
     "metadata": {},
     "output_type": "execute_result"
    }
   ],
   "source": [
    "# Remove minimum (root) element\n",
    "h.removeMin()\n",
    "h.arr"
   ]
  }
 ],
 "metadata": {
  "kernelspec": {
   "display_name": "Python 3",
   "language": "python",
   "name": "python3"
  },
  "language_info": {
   "codemirror_mode": {
    "name": "ipython",
    "version": 3
   },
   "file_extension": ".py",
   "mimetype": "text/x-python",
   "name": "python",
   "nbconvert_exporter": "python",
   "pygments_lexer": "ipython3",
   "version": "3.8.16"
  },
  "orig_nbformat": 4,
  "vscode": {
   "interpreter": {
    "hash": "949777d72b0d2535278d3dc13498b2535136f6dfe0678499012e853ee9abcab1"
   }
  }
 },
 "nbformat": 4,
 "nbformat_minor": 2
}
